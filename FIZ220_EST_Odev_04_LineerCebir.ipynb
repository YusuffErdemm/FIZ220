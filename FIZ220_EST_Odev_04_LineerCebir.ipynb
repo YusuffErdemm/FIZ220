{
 "cells": [
  {
   "cell_type": "markdown",
   "metadata": {},
   "source": [
    "# Ödev: 4\n",
    "## FİZ220 - Bilgisayar Programlama II | 15/05/2020\n",
    "\n",
    "**Lineer Cebir**\n",
    "\n",
    "**Son gönderim tarihi:** 21 Mayıs Perşembe, 23:59  \n",
    "**Gönderim şekli:** FIZ220_Odev_04_Grup_#.ipynb isimli jupyter ipynb formatında dosyayı ödev sayfasından göndermek suretiyle  \n",
    "**Gönderecek kişi:** <u>Grup temsilcisi</u>\n",
    "\n",
    "Dr. Emre S. Taşcı, emre.tasci@hacettepe.edu.tr  \n",
    "Fizik Mühendisliği Bölümü  \n",
    "Hacettepe Üniversitesi"
   ]
  },
  {
   "cell_type": "markdown",
   "metadata": {},
   "source": [
    "### 1. Soru: Çevir, kısalt, göster, ispatla, edge of tomorrow\n",
    "$$KR=\\begin{bmatrix}0.75&0\\\\0&0.75\\end{bmatrix}\\begin{bmatrix}\\cos{120^o} &-\\sin{120^o}\\\\\\sin{120^o}&\\cos{120^o}\\end{bmatrix}=\\begin{bmatrix}-0.37500&-0.64952\\\\0.64952&-0.37500\\end{bmatrix}$$\n",
    "\n",
    "\n",
    "\n",
    "Şeklinde tanımlanan $KR$ operatörünün rastgele ürettiğiniz 10 vektörün hepsini $120^o$ döndürüp, boyunu da %75 kısalttığını teyit edin.\n",
    "\n",
    "(300 puanlık) Bonus: KR operatörün verilen <u><span style=\"color:red;\">her</span></u> vektörü $120^o$ döndürüp, boyunu da %75 kısalttığını <u><span style=\"color:red;\">ispatlayın</span></u>.."
   ]
  },
  {
   "cell_type": "markdown",
   "metadata": {},
   "source": [
    "### 2. Soru: Özvektör, özdeğer, 🎵eski dostlar, eski dostlar... 🎶\n",
    "\n",
    "$A=\\begin{bmatrix}2&3\\\\4&5\\end{bmatrix}$ operatörü için:\n",
    "  * $\\left( \\begin{matrix}-0.49437\\\\-0.86925\\end{matrix} \\right)$,\n",
    "  * $\\left( \\begin{matrix}-0.79681\\\\0.60423\\end{matrix} \\right)$  \n",
    "  \n",
    "vektörlerini inceleyin. Bunlar özvektör ise, özdeğerlerini hesaplayıp, derste bulduğumuz $\\left( \\begin{matrix}1\\\\1.7583\\end{matrix} \\right)$ özvektörü ile karşılaştırın."
   ]
  },
  {
   "cell_type": "markdown",
   "metadata": {},
   "source": [
    "### 3. Soru: $R_{\\pi/2}$\n",
    " $90^0$ dönüş operatörünün özvektörünü ve özdeğerini bulun (bulamazsanız da yorumlayın (50 puan); bulursanız da (100 puan!))"
   ]
  }
 ],
 "metadata": {
  "kernelspec": {
   "display_name": "Python 3",
   "language": "python",
   "name": "python3"
  },
  "language_info": {
   "codemirror_mode": {
    "name": "ipython",
    "version": 3
   },
   "file_extension": ".py",
   "mimetype": "text/x-python",
   "name": "python",
   "nbconvert_exporter": "python",
   "pygments_lexer": "ipython3",
   "version": "3.6.9"
  }
 },
 "nbformat": 4,
 "nbformat_minor": 2
}
