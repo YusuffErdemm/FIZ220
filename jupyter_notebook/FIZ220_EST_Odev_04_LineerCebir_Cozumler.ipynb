{
 "cells": [
  {
   "cell_type": "markdown",
   "metadata": {},
   "source": [
    "# Ödev: 4 - Çözümler\n",
    "## FİZ220 - Bilgisayar Programlama II | 15/05/2020\n",
    "\n",
    "**Lineer Cebir**\n",
    "\n",
    "<strike>**Son gönderim tarihi:** 21 Mayıs Perşembe, 23:59  \n",
    "**Gönderim şekli:** FIZ220_Odev_04_Grup_#.ipynb isimli jupyter ipynb formatında dosyayı ödev sayfasından göndermek suretiyle  \n",
    "**Gönderecek kişi:** <u>Grup temsilcisi</u></strike>\n",
    "\n",
    "Dr. Emre S. Taşcı, emre.tasci@hacettepe.edu.tr  \n",
    "Fizik Mühendisliği Bölümü  \n",
    "Hacettepe Üniversitesi"
   ]
  },
  {
   "cell_type": "markdown",
   "metadata": {},
   "source": [
    "### 1. Soru: Çevir, kısalt, göster, ispatla, edge of tomorrow\n",
    "$\\require{cancel}$\n",
    "$$KR=\\begin{bmatrix}0.75&0\\\\0&0.75\\end{bmatrix}\\begin{bmatrix}\\cos{120^o} &-\\sin{120^o}\\\\\\sin{120^o}&\\cos{120^o}\\end{bmatrix}=\\begin{bmatrix}-0.37500&-0.64952\\\\0.64952&-0.37500\\end{bmatrix}$$\n",
    "\n",
    "\n",
    "\n",
    "Şeklinde tanımlanan $KR$ operatörünün rastgele ürettiğiniz 10 vektörün hepsini $120^o$ döndürüp, boyunu da %75 kısalttığını teyit edin.\n",
    "\n",
    "(300 puanlık) Bonus: KR operatörün verilen <u><span style=\"color:red;\">her</span></u> vektörü $120^o$ döndürüp, boyunu da %75 kısalttığını <u><span style=\"color:red;\">ispatlayın</span></u>.."
   ]
  },
  {
   "cell_type": "code",
   "execution_count": 28,
   "metadata": {},
   "outputs": [
    {
     "name": "stdout",
     "output_type": "stream",
     "text": [
      "[[-0.375      -0.64951905]\n",
      " [ 0.64951905 -0.375     ]]\n",
      "----------------------------------------\n",
      "[[-2.79695579  5.89383131]\n",
      " [-2.52693164 -1.87706433]\n",
      " [ 2.82020618  3.39815971]\n",
      " [-5.38519325  9.16318907]\n",
      " [-3.35009089  3.02993143]\n",
      " [ 3.68815146  6.40338927]\n",
      " [-4.00905305  7.42776687]\n",
      " [ 8.60214854 -7.31886739]\n",
      " [ 1.5878945  -0.42868633]\n",
      " [-1.64404615 -7.0161113 ]]\n",
      "[[-2.77929731e+00 -4.02686282e+00]\n",
      " [ 2.16678841e+00 -9.37391125e-01]\n",
      " [-3.26474680e+00  5.57467753e-01]\n",
      " [-3.93221842e+00 -6.93398152e+00]\n",
      " [-7.11714105e-01 -3.31217215e+00]\n",
      " [-5.54218013e+00 -5.74633478e-03]\n",
      " [-3.32108121e+00 -5.38936892e+00]\n",
      " [ 1.52793811e+00  8.33183464e+00]\n",
      " [-3.17020497e-01  1.19212511e+00]\n",
      " [ 5.17361527e+00  1.56320244e+00]]\n",
      "Boylar:  6.52382 / 4.89286 = 0.75\n",
      "Açılar: 115.39 -124.61 :: -240.00\n",
      "---------------\n",
      "Boylar:  3.14782 / 2.36086 = 0.75\n",
      "Açılar: -143.39 -23.39 :: 120.00\n",
      "---------------\n",
      "Boylar:  4.41600 / 3.31200 = 0.75\n",
      "Açılar: 50.31 170.31 :: 120.00\n",
      "---------------\n",
      "Boylar: 10.62847 / 7.97135 = 0.75\n",
      "Açılar: 120.44 -119.56 :: -240.00\n",
      "---------------\n",
      "Boylar:  4.51703 / 3.38778 = 0.75\n",
      "Açılar: 137.87 -102.13 :: -240.00\n",
      "---------------\n",
      "Boylar:  7.38958 / 5.54218 = 0.75\n",
      "Açılar: 60.06 -179.94 :: -240.00\n",
      "---------------\n",
      "Boylar:  8.44063 / 6.33047 = 0.75\n",
      "Açılar: 118.36 -121.64 :: -240.00\n",
      "---------------\n",
      "Boylar: 11.29437 / 8.47078 = 0.75\n",
      "Açılar: -40.39 79.61 :: 120.00\n",
      "---------------\n",
      "Boylar:  1.64474 / 1.23356 = 0.75\n",
      "Açılar: -15.11 104.89 :: 120.00\n",
      "---------------\n",
      "Boylar:  7.20616 / 5.40462 = 0.75\n",
      "Açılar: -103.19 16.81 :: 120.00\n",
      "---------------\n"
     ]
    }
   ],
   "source": [
    "import numpy as np\n",
    "\n",
    "K = np.array([[0.75,0],[0,0.75]])\n",
    "aci_d = 120\n",
    "aci = np.deg2rad(aci_d)\n",
    "R = np.array([[np.cos(aci),-np.sin(aci)],[np.sin(aci),np.cos(aci)]])\n",
    "KR = np.dot(K,R)\n",
    "print(KR)\n",
    "print(\"-\"*40)\n",
    "\n",
    "np.random.seed(220)\n",
    "N = 10\n",
    "v = np.random.rand(2,N)*20 - 10\n",
    "print(v.T)\n",
    "vp = np.dot(KR,v)\n",
    "print(vp.T)\n",
    "\n",
    "for i in range(N):\n",
    "    v_i = v[:,i]\n",
    "    vp_i = vp[:,i]\n",
    "    v_i_boy = np.linalg.norm(v_i)\n",
    "    vp_i_boy = np.linalg.norm(vp_i)\n",
    "    print(\"Boylar: {:8.5f} /{:8.5f} = {:.2f}\".format(v_i_boy,vp_i_boy,vp_i_boy/v_i_boy))\n",
    "    v_i_aci = np.rad2deg(np.arctan2(v_i[1],v_i[0]))\n",
    "    vp_i_aci = np.rad2deg(np.arctan2(vp_i[1],vp_i[0]))\n",
    "    print(\"Açılar: {:5.2f} {:5.2f} :: {:5.2f}\".format(v_i_aci,vp_i_aci,vp_i_aci - v_i_aci))\n",
    "    print(\"-\"*15)"
   ]
  },
  {
   "cell_type": "markdown",
   "metadata": {},
   "source": [
    "## Gelelim Bonus'a... bonusa gel bonusa!..\n",
    "Kullandığımız koordinat sisteminde (Kartezyen), herhangi bir $\\vec{a}$ vektörü, iki baz vektörün (${\\hat\\imath,\\,\\hat\\jmath}$) skalerlerle ($\\alpha,\\,\\beta$) çarpılıp toplanmış hali olarak yazılabilir:\n",
    "\n",
    "$$\\vec{a} = \\alpha\\,\\hat{\\imath}+\\beta\\,\\hat{\\jmath}$$\n",
    "\n",
    "veya vektör-matris temsilinde açık olarak yazarsak:\n",
    "\n",
    "$$\\vec{a} =\\begin{bmatrix}\\alpha\\\\\\beta\\end{bmatrix} =\\alpha\\begin{bmatrix}1\\\\0\\end{bmatrix}+\\beta\\begin{bmatrix}0\\\\1\\end{bmatrix}$$\n",
    "\n",
    "<u>Lineer</u> cebirde operatörlerin toplama üzerine dağılma özelliğini kullanırsak:\n",
    "\n",
    "$$\\begin{align*}\\vec{a}'=KR\\cdot\\vec{a} &= \\begin{bmatrix}-0.37500&-0.64952\\\\0.64952&-0.37500\\end{bmatrix} \\begin{bmatrix}\\alpha\\\\\\beta\\end{bmatrix}\\\\\n",
    "&=\\begin{bmatrix}-0.37500&-0.64952\\\\0.64952&-0.37500\\end{bmatrix}\\alpha\\begin{bmatrix}1\\\\0\\end{bmatrix}+\\begin{bmatrix}-0.37500&-0.64952\\\\0.64952&-0.37500\\end{bmatrix}\\beta\\begin{bmatrix}0\\\\1\\end{bmatrix}\n",
    "\\end{align*}$$"
   ]
  },
  {
   "cell_type": "code",
   "execution_count": 32,
   "metadata": {},
   "outputs": [
    {
     "name": "stdout",
     "output_type": "stream",
     "text": [
      "KRi:\n",
      " [[-0.375     ]\n",
      " [ 0.64951905]]\n",
      "---------------\n",
      "KRj:\n",
      " [[-0.64951905]\n",
      " [-0.375     ]]\n"
     ]
    }
   ],
   "source": [
    "i = np.array([[1],[0]])\n",
    "j = np.array([[0],[1]])\n",
    "KRi = np.dot(KR,i)\n",
    "KRj = np.dot(KR,j)\n",
    "print(\"KRi:\\n\",KRi)\n",
    "print(\"-\"*15)\n",
    "print(\"KRj:\\n\",KRj)"
   ]
  },
  {
   "cell_type": "markdown",
   "metadata": {},
   "source": [
    "$$\\begin{align*}\\vec{a}' &=\\alpha\\begin{bmatrix}-0.37500\\\\0.64952\\end{bmatrix}+\\beta\\begin{bmatrix}-0.64952\\\\-0.37500\\end{bmatrix}\n",
    "\\end{align*}$$\n",
    "\n",
    "$\\vec{a}'$nün büyüklüğü, bileşenlerinin karelerinin toplamına eşit:\n",
    "$$\\begin{align*}|\\vec{a}'|^2 &= \\left(\\alpha\\left|\\begin{bmatrix}-0.37500\\\\0.64952\\end{bmatrix}\\right|\\right)^2+\\left(\\beta\\left|\\begin{bmatrix}-0.64952\\\\-0.37500\\end{bmatrix}\\right|\\right)^2\\\\\n",
    "&=\\alpha^2(0.5625) + \\beta^2(0.5625)\\\\\n",
    "&=(0.5625)\\left(\\alpha^2 + \\beta^2\\right)\n",
    "\\end{align*}$$\n",
    "\n",
    "Bileşen vektörlerin boylarının karesini nasıl 0.5625 bulduğumuza gelirsek:"
   ]
  },
  {
   "cell_type": "code",
   "execution_count": 43,
   "metadata": {},
   "outputs": [
    {
     "name": "stdout",
     "output_type": "stream",
     "text": [
      "[[0.5625]]\n",
      "[[0.5625]]\n",
      "0.5625012304\n"
     ]
    }
   ],
   "source": [
    "print(np.dot(KRi.T,KRi))\n",
    "print(np.dot(KRj.T,KRj))\n",
    "print((-0.375)**2+0.64952**2)"
   ]
  },
  {
   "cell_type": "markdown",
   "metadata": {},
   "source": [
    "$\\vec{a}$ vektörümüzün boyu da:\n",
    "$$|\\vec{a}|^2=\\left|\\begin{bmatrix}\\alpha\\\\\\beta\\end{bmatrix}\\right|^2=\\alpha^2 + \\beta^2$$\n",
    "\n",
    "...buradan da boylarının oranını:\n",
    "$$\\frac{|\\vec{a}'|}{|\\vec{a}|} = \\sqrt{\\frac{|\\vec{a}'|^2}{|\\vec{a}|^2}}=\\sqrt{\\frac{(0.5625)\\cancel{\\left(\\alpha^2 + \\beta^2\\right)}}{\\cancel{\\alpha^2 + \\beta^2}}}=\\sqrt{0.5625}=\\boxed{0.75}$$\n",
    "\n",
    "olarak buluruz. Boyu gösterdik, sıra açıda."
   ]
  },
  {
   "cell_type": "markdown",
   "metadata": {},
   "source": [
    "İki vektör arasındaki açıyı skaler çarpımın tanımından yola çıkarak buluruz, bu durumda $\\vec{a}$ ile $\\vec{a}'$ arasındaki açıya $\\theta$ dersek:\n",
    "\n",
    "$$\\vec{a}\\cdot\\vec{a}' = |\\vec{a}|| \\vec{a}'|\\cos\\theta\\Rightarrow \\theta = \\cos^{-1}\\frac{\\vec{a}\\cdot\\vec{a}'}{|\\vec{a}|| \\vec{a}'|}$$"
   ]
  },
  {
   "cell_type": "markdown",
   "metadata": {},
   "source": [
    "$$\\begin{align*}\n",
    "\\vec{a}\\cdot\\vec{a}' &=\\begin{bmatrix}\\alpha&&\\beta\\end{bmatrix} \\cdot \\left(\\alpha\\begin{bmatrix}-0.37500\\\\0.64952\\end{bmatrix}+\\beta\\begin{bmatrix}-0.64952\\\\-0.37500\\end{bmatrix}\\right)\\\\\n",
    "&=\\alpha^2(-0.375)+\\beta\\alpha(0.64952)+\\alpha\\beta(-0.64952)+\\beta^2(-0.375)\\\\\n",
    "&=(-0.375)\\left(\\alpha^2+\\beta^2\\right)\n",
    "\\end{align*}$$\n",
    "\n",
    "Boylarının çarpımlarını da biliyoruz:\n",
    "\n",
    "$$|\\vec{a}| = \\sqrt{\\alpha^2+\\beta^2},\\quad |\\vec{a}'|=0.75\\sqrt{\\alpha^2+\\beta^2}$$\n",
    "$$\\rightarrow |\\vec{a}||\\vec{a}'| = 0.75\\left(\\alpha^2+\\beta^2\\right)$$\n",
    "\n",
    "Buradan da, açı denkleminde yerlerine yerleştirirsek:\n",
    "\n",
    "$$\\theta = \\cos^{-1}\\frac{\\vec{a}\\cdot\\vec{a}'}{|\\vec{a}|| \\vec{a}'|}=\\cos^{-1}\\frac{(-0.375)\\cancel{\\left(\\alpha^2+\\beta^2\\right)}}{0.75\\cancel{\\left(\\alpha^2+\\beta^2\\right)}}=\\cos^{-1}\\frac{-0.375}{0.75}=\\cos^{-1}{(-0.5)}=\\boxed{120^o}$$"
   ]
  },
  {
   "cell_type": "code",
   "execution_count": 51,
   "metadata": {},
   "outputs": [
    {
     "name": "stdout",
     "output_type": "stream",
     "text": [
      "theta: 120.00 derece\n"
     ]
    }
   ],
   "source": [
    "theta = np.rad2deg(np.arccos(-0.375/0.75))\n",
    "print(\"theta: {:5.2f} derece\".format(theta))"
   ]
  },
  {
   "cell_type": "markdown",
   "metadata": {},
   "source": [
    "### 2. Soru: Özvektör, özdeğer, 🎵eski dostlar, eski dostlar... 🎶\n",
    "\n",
    "$A=\\begin{bmatrix}2&3\\\\4&5\\end{bmatrix}$ operatörü için:\n",
    "  * $\\left( \\begin{matrix}-0.49437\\\\-0.86925\\end{matrix} \\right)$,\n",
    "  * $\\left( \\begin{matrix}-0.79681\\\\0.60423\\end{matrix} \\right)$  \n",
    "  \n",
    "vektörlerini inceleyin. Bunlar özvektör ise, özdeğerlerini hesaplayıp, derste bulduğumuz $\\left( \\begin{matrix}1\\\\1.7583\\end{matrix} \\right)$ özvektörü ile karşılaştırın."
   ]
  },
  {
   "cell_type": "code",
   "execution_count": 61,
   "metadata": {},
   "outputs": [
    {
     "name": "stdout",
     "output_type": "stream",
     "text": [
      "boylar:\n",
      " 0.9999986296990611 1.0000000344999993 7.274909032627143 0.27491371919204016\n",
      "A.v1:\n",
      " [[-3.59649]\n",
      " [-6.32373]]\n",
      "A.v1/|A_v1|:\n",
      " [[-0.49436907]\n",
      " [-0.86925211]]\n",
      "--------------------\n",
      "A.v2:\n",
      " [[ 0.21907]\n",
      " [-0.16609]]\n",
      "A.v2/|A_v2|:\n",
      " [[ 0.7968682 ]\n",
      " [-0.60415319]]\n"
     ]
    }
   ],
   "source": [
    "import numpy as np\n",
    "A = np.array([[2,3],[4,5]])\n",
    "v1 = np.array([[-0.49437],[-0.86925]])\n",
    "v2 = np.array([[-0.79681],[0.60423]])\n",
    "\n",
    "v1_boy = np.linalg.norm(v1)\n",
    "v2_boy = np.linalg.norm(v2)\n",
    "\n",
    "A_v1 = np.dot(A,v1)\n",
    "A_v2 = np.dot(A,v2)\n",
    "\n",
    "A_v1_boy = np.linalg.norm(A_v1)\n",
    "A_v2_boy = np.linalg.norm(A_v2)\n",
    "\n",
    "print(\"boylar:\\n\",v1_boy,v2_boy,A_v1_boy,A_v2_boy)\n",
    "print(\"A.v1:\\n\",A_v1)\n",
    "print(\"A.v1/|A_v1|:\\n\",A_v1/A_v1_boy)\n",
    "print(\"-\"*20)\n",
    "print(\"A.v2:\\n\",A_v2)\n",
    "print(\"A.v2/|A_v2|:\\n\",A_v2/A_v2_boy)"
   ]
  },
  {
   "cell_type": "markdown",
   "metadata": {},
   "source": [
    "Yukarıda şu eşitlikleri çıkarmış olduk:\n",
    "$$\\vec{v}_1 = \\left( \\begin{matrix}-0.49437\\\\-0.86925\\end{matrix} \\right),\\quad \\vec{v}_2=\\left( \\begin{matrix}-0.79681\\\\0.60423\\end{matrix} \\right),\\quad A=\\begin{bmatrix}2&3\\\\4&5\\end{bmatrix}$$\n",
    "\n",
    "olmak üzere:\n",
    "\n",
    "$$\\begin{gather*}A\\cdot \\vec{v}_1 = 7.2749\\,\\vec{v}_1\\\\\n",
    "A\\cdot \\vec{v}_2 = 0.2749\\,\\vec{v}_2\\end{gather*}$$\n",
    "\n",
    "yani $A$'nın özdeğerleri $\\lambda_{1,2} = \\{7.2749, 0.2749\\}$ imiş. Derste $\\vec{u}=\\left( \\begin{matrix}1\\\\1.7583\\end{matrix} \\right)$ özvektörünün özdeğeri olarak 7.2749'u bulmuştuk, demek ki $\\vec{u}$ vektörü, $\\vec{v}_1$'in bir skalerle çarpılmış hali. O skaleri de bulalım:"
   ]
  },
  {
   "cell_type": "code",
   "execution_count": 63,
   "metadata": {},
   "outputs": [
    {
     "name": "stdout",
     "output_type": "stream",
     "text": [
      "[[-2.02277646]\n",
      " [-2.02277826]]\n"
     ]
    }
   ],
   "source": [
    "u = np.array([[1],[1.7583]])\n",
    "v1 = np.array([[-0.49437],[-0.86925]])\n",
    "print(u/v1)"
   ]
  },
  {
   "cell_type": "markdown",
   "metadata": {},
   "source": [
    "$$ \\vec{u} = -2.023\\,\\vec{v}_1$$"
   ]
  },
  {
   "cell_type": "markdown",
   "metadata": {},
   "source": [
    "### 3. Soru: $R_{\\pi/2}$\n",
    " $90^0$ dönüş operatörünün özvektörünü ve özdeğerini bulun (bulamazsanız da yorumlayın (50 puan); bulursanız da (100 puan!))"
   ]
  },
  {
   "cell_type": "code",
   "execution_count": 64,
   "metadata": {},
   "outputs": [
    {
     "name": "stdout",
     "output_type": "stream",
     "text": [
      "[6.123234e-17+1.j 6.123234e-17-1.j]\n",
      "[[0.70710678+0.j         0.70710678-0.j        ]\n",
      " [0.        -0.70710678j 0.        +0.70710678j]]\n"
     ]
    }
   ],
   "source": [
    "import numpy as np\n",
    "\n",
    "theta = np.deg2rad(90)\n",
    "R = np.array([[np.cos(theta),-np.sin(theta)],[np.sin(theta),np.cos(theta)]])\n",
    "\n",
    "[l,u] = np.linalg.eig(R)\n",
    "print(l)\n",
    "print(u)"
   ]
  },
  {
   "cell_type": "markdown",
   "metadata": {},
   "source": [
    "Özdeğerler de özvektörler de kompleks çıktı!!! (Nasıl yani?...)\n",
    "\n",
    "E sonuçta \"2 boyutlu bir düzlemde, saat yönünde 90 derece döndürüldüğünde yönünü değiştirmeyen bir vektör\" aradık, o da bize \"yok öyle bir dünya!\" diyerek, kendi dünyamızın dışından, kompleks düzlemden cevabı yapıştırdı. 8)"
   ]
  }
 ],
 "metadata": {
  "kernelspec": {
   "display_name": "Python 3",
   "language": "python",
   "name": "python3"
  },
  "language_info": {
   "codemirror_mode": {
    "name": "ipython",
    "version": 3
   },
   "file_extension": ".py",
   "mimetype": "text/x-python",
   "name": "python",
   "nbconvert_exporter": "python",
   "pygments_lexer": "ipython3",
   "version": "3.6.9"
  }
 },
 "nbformat": 4,
 "nbformat_minor": 2
}
