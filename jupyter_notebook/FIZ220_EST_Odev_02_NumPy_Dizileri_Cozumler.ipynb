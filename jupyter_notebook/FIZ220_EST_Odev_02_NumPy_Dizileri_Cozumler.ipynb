{
 "cells": [
  {
   "cell_type": "markdown",
   "metadata": {},
   "source": [
    "# Ödev: 2 - Çözümler\n",
    "## FİZ220 - Bilgisayar Programlama II | 17/04/2020\n",
    "\n",
    "**NumPy Dizileri**\n",
    "\n",
    "Dr. Emre S. Taşcı, emre.tasci@hacettepe.edu.tr  \n",
    "Fizik Mühendisliği Bölümü  \n",
    "Hacettepe Üniversitesi"
   ]
  },
  {
   "cell_type": "markdown",
   "metadata": {},
   "source": [
    "## NumPy Dizileri (ndarray) matrisler şeklinde olacak."
   ]
  },
  {
   "cell_type": "markdown",
   "metadata": {},
   "source": [
    "### 1. Soru: 3 boyutlu, rastgele ([5,10) aralığında) değerleri olan bir garip  (2x3x4)'lük matris...\n",
    "(Hepsi başlıkta geçiyor, yine de bir daha yazalım bakalım 8)  \n",
    "(2x3x4) boyutlarında, değerleri 5 veya 5'ten büyük, 10'dan küçük rastgele ondalıklı sayılar olan bir ndarray matrisi üretin."
   ]
  },
  {
   "cell_type": "code",
   "execution_count": 4,
   "metadata": {},
   "outputs": [
    {
     "name": "stdout",
     "output_type": "stream",
     "text": [
      "[[[9.95281563 5.63254898 6.07441809 8.04197016]\n",
      "  [8.50165877 7.81127022 9.34842149 8.92854399]\n",
      "  [6.02399202 5.73620455 7.78620063 5.81806259]]\n",
      "\n",
      " [[8.58669138 9.66698267 6.00621793 6.99330003]\n",
      "  [9.51428449 6.37556843 6.17834623 8.18699101]\n",
      "  [7.73204654 6.06283058 8.99248003 9.42941319]]]\n"
     ]
    }
   ],
   "source": [
    "import numpy as np\n",
    "\n",
    "matris = np.random.rand(2,3,4) \n",
    "# bu matrisin değerleri 0 ile 1 arasında: [0,1)\n",
    "\n",
    "matris = matris*5 + 5 # bu şekilde değerleri [5,10) aralığına taşıdık\n",
    "# [0,1) * 5 = [0,5)\n",
    "# [0,5) + 5 = [5,10)\n",
    "\n",
    "print(matris)"
   ]
  },
  {
   "cell_type": "markdown",
   "metadata": {},
   "source": [
    "### 2. Soru: Matris işlemleri, özdeğerler, özvektörler, aslında hepsi öteleme ve döndürmeden ibaret...\n",
    "\n",
    "Elimizde iki boyutlu bir düzlem olsun. Bu düzlemde, (1,0) noktasını alalım (yani x=1, y=0 noktası). Bu noktayı öyle bir (2x2)'lik matrisle çarpalım ki, bize sonuç olarak (0,1) noktasını versin (yani noktamızı saat yönünün tersine, orijin etrafında 90 derece çevirsin). \n",
    "\n",
    "Aynı matrisi (0,1) ile çarptığımızda da, bu sefer onu (-1,0) noktasına taşısın (yaptığımız işlem aynı aslında: orijin etrafında, saat yönünün tersine 90 derece çevirmek).\n",
    "\n",
    "Sorunun başlığı hakkında detaylı bilgi:\n",
    "* [The Applications of Matrices | What I wish my teachers told me way earlier](https://www.youtube.com/watch?v=rowWM-MijXU)\n",
    "* [Eigenvectors and eigenvalues | Essence of linear algebra, chapter 14](https://www.youtube.com/watch?v=PFDu9oVAE-g)"
   ]
  },
  {
   "cell_type": "markdown",
   "metadata": {},
   "source": [
    "**Çözüm**\n",
    "\n",
    "İki boyutta olduğumuzdan ötürü, pozisyon vektörlerimiz de iki boyutlu olacak, tıpkı $\\begin{pmatrix}1\\\\0\\end{pmatrix}$ ve $\\begin{pmatrix}0\\\\1\\end{pmatrix}$ gibi.\n",
    "\n",
    "$A$ matrisi aradığımız dönüş matrisimiz olsun. Bize verilen denklemler şunlar:\n",
    "\n",
    "$$A\\cdot \\begin{pmatrix}1\\\\0\\end{pmatrix} = \\begin{pmatrix}0\\\\1\\end{pmatrix}$$\n",
    "\n",
    "$$A\\cdot \\begin{pmatrix}0\\\\1\\end{pmatrix} = \\begin{pmatrix}-1\\\\0\\end{pmatrix}$$\n",
    "\n",
    "$(2\\times 1)$'lik bir vektöre etki edip, sonuçta yine $(2\\times 1)$'lik bir vektör elde ettirecek matrisin boyutu $(2\\times 2)$ olmak zorundadır. Bu durumda, bilinmeyen $A$ matrisimizi şu şekilde yazalım:\n",
    "\n",
    "$$A=\\begin{pmatrix}a&&b\\\\c&&d\\end{pmatrix}$$\n",
    "\n",
    "$a,b,c,d$ olmak üzere, 4 bilinmeyenimiz var. Bunları verilen vektörlere etki ettirirsek:\n",
    "\n",
    "$$A\\cdot \\begin{pmatrix}1\\\\0\\end{pmatrix} =  \\begin{pmatrix}a&&b\\\\c&&d\\end{pmatrix}\\begin{pmatrix}1\\\\0\\end{pmatrix} = \\begin{pmatrix}0\\\\1\\end{pmatrix} $$\n",
    "\n",
    "$$A\\cdot \\begin{pmatrix}0\\\\1\\end{pmatrix} =  \\begin{pmatrix}a&&b\\\\c&&d\\end{pmatrix}\\begin{pmatrix}0\\\\1\\end{pmatrix} = \\begin{pmatrix}-1\\\\0\\end{pmatrix} $$\n",
    "\n",
    "çarpımları yapınca şu denklemleri buluruz:\n",
    "\n",
    "$$\\begin{gather*}a = 0,\\\\c = 1,\\\\b=-1,\\\\d=0\\end{gather*}$$\n",
    "\n",
    "$a$ ile $c$ ilk çarpımdan, $b$ ile $d$ de ikinci çarpımdan bulunuyor. Tanımda yerlerine koyunca:\n",
    "\n",
    "$$A=\\begin{pmatrix}0&&-1\\\\1&&0\\end{pmatrix}$$\n",
    "\n",
    "olarak buluruz. Haydi teyit edelim:"
   ]
  },
  {
   "cell_type": "code",
   "execution_count": 7,
   "metadata": {},
   "outputs": [
    {
     "name": "stdout",
     "output_type": "stream",
     "text": [
      "A:\n",
      " [[ 0 -1]\n",
      " [ 1  0]] \n",
      "\n",
      "x1:\n",
      " [[1]\n",
      " [0]] \n",
      "\n",
      "x2:\n",
      " [[0]\n",
      " [1]] \n",
      "\n",
      "---------------------------------------------\n",
      "A.x1:\n",
      " [[0]\n",
      " [1]]\n",
      "---------------------------------------------\n",
      "A.x2:\n",
      " [[-1]\n",
      " [ 0]]\n"
     ]
    }
   ],
   "source": [
    "A = np.array([[0,-1],[1,0]])\n",
    "x1 = np.array([[1],[0]])\n",
    "x2 = np.array([[0],[1]])\n",
    "print(\"A:\\n\",A,\"\\n\")\n",
    "print(\"x1:\\n\",x1,\"\\n\")\n",
    "print(\"x2:\\n\",x2,\"\\n\")\n",
    "\n",
    "print(\"-\"*45)\n",
    "\n",
    "x1_ussu = np.dot(A,x1)\n",
    "x2_ussu = np.dot(A,x2)\n",
    "\n",
    "print(\"A.x1:\\n\",x1_ussu)\n",
    "print(\"-\"*45)\n",
    "print(\"A.x2:\\n\",x2_ussu)"
   ]
  },
  {
   "cell_type": "markdown",
   "metadata": {},
   "source": [
    "[Bir sonraki dersimizde](https://emresururi.github.io/FIZ220/FIZ220_EST_UygulamaNotlari_06_Matris_Uygulamalari.html) bu matrisin aslında $\\theta = 90^o$'ye karşılık gelen dönüş matrisi olduğunu göreceğiz -- en genel haliyle de:\n",
    "\n",
    "$$R_{\\theta}=\\begin{bmatrix}\\cos{\\theta}&-\\sin{\\theta}\\\\\\sin{\\theta}&\\cos{\\theta}\\end{bmatrix}$$\n",
    "\n",
    "olarak temsil edilmekte..."
   ]
  }
 ],
 "metadata": {
  "kernelspec": {
   "display_name": "Python 3 (Spyder)",
   "language": "python3",
   "name": "python3"
  },
  "language_info": {
   "codemirror_mode": {
    "name": "ipython",
    "version": 3
   },
   "file_extension": ".py",
   "mimetype": "text/x-python",
   "name": "python",
   "nbconvert_exporter": "python",
   "pygments_lexer": "ipython3",
   "version": "3.6.9"
  }
 },
 "nbformat": 4,
 "nbformat_minor": 2
}
