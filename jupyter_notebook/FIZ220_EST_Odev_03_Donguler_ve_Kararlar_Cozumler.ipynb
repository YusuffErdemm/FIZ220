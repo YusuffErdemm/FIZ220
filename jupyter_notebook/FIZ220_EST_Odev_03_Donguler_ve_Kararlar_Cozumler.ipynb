{
 "cells": [
  {
   "cell_type": "markdown",
   "metadata": {},
   "source": [
    "# Ödev: 3 - Çözümler\n",
    "## FİZ220 - Bilgisayar Programlama II | 08/05/2020\n",
    "\n",
    "**Döngüler ve Kararlar**\n",
    "\n",
    "Dr. Emre S. Taşcı, emre.tasci@hacettepe.edu.tr  \n",
    "Fizik Mühendisliği Bölümü  \n",
    "Hacettepe Üniversitesi"
   ]
  },
  {
   "cell_type": "markdown",
   "metadata": {},
   "source": [
    "## NumPy Dizileri (ndarray) matrisler şeklinde olacak."
   ]
  },
  {
   "cell_type": "markdown",
   "metadata": {},
   "source": [
    "### 1. Soru: Asal sayılar (hani hesaplanamıyordu?..)\n",
    "Tanımlanan bir _n_ sayısından büyük ilk asal sayıyı bulan program yazınız."
   ]
  },
  {
   "cell_type": "code",
   "execution_count": 1,
   "metadata": {
    "scrolled": false
   },
   "outputs": [
    {
     "name": "stdout",
     "output_type": "stream",
     "text": [
      "Tanımlanmış olan n değeri:  113\n",
      "Şimdiye kadarki asallar: \n",
      " [  2   3   5   7  11  13  17  19  23  29  31  37  41  43  47  53  59  61\n",
      "  67  71  73  79  83  89  97 101 103 107 109 113]\n",
      "Bulunan asal:  127\n"
     ]
    }
   ],
   "source": [
    "import numpy as np\n",
    "\n",
    "n = 113\n",
    "print(\"Tanımlanmış olan n değeri: \",n)\n",
    "\n",
    "# Asal sayılar için sihirli bir formülümüz olmadığından,\n",
    "# \"en baştan\", 3'den başlıyoruz\n",
    "\n",
    "simdiye_kadarki_asallar = np.array([2])\n",
    "\n",
    "# Once n'e kadar/dahil olan asal sayıları bulalım:\n",
    "for i in np.arange(3,n+1,2):\n",
    "    # Şu anda elimizdeki i sayısının asal olduğunu varsayalım\n",
    "    i_asal_mi = True\n",
    "    \n",
    "    # Şimdi de birer birer \"simdiye_kadarki_asallar\" kumesinin\n",
    "    # elemanlarına bölelim -- tâ ki bir tanesine kalansız bölününceye\n",
    "    # kadar -- o zaman asal değil demektir!\n",
    "    for j in simdiye_kadarki_asallar:\n",
    "        if(i%j == 0): \n",
    "            # Kalansız bölündü - demek ki asal değil!\n",
    "            i_asal_mi = False\n",
    "            \n",
    "            # Diğer sayılara bölünüyor mu diye bakmaya gerek yok\n",
    "            break\n",
    "    \n",
    "    # Buraya gelindiğinde iki şey olmuş olabilir:\n",
    "    # * ya bir sayıya kalansız bölündü (i_asal_mi = False)\n",
    "    # * ya da, hiçbirine kalansız bölünmedi de, j'nin döngüsü bitti\n",
    "    #     (yani gerçekten asalmış -- i_asal_mi = True kaldı)\n",
    "    if(i_asal_mi == True):\n",
    "        simdiye_kadarki_asallar = np.append(simdiye_kadarki_asallar,i)\n",
    "print(\"Şimdiye kadarki asallar: \\n\",simdiye_kadarki_asallar)\n",
    "\n",
    "# Artık tek yapmamız gereken bunu takiben bir tane daha asal bulmak\n",
    "while True:\n",
    "    # Bu şekilde sonsuz bir döngüye girdik, sonumuz hayır olsun\n",
    "    # (hemen korkmayın, istediğimiz an break ile kırar çıkarız 8)\n",
    "    n = n + 1\n",
    "    n_asal_mi = True\n",
    "    for j in simdiye_kadarki_asallar:\n",
    "        if(n%j == 0):\n",
    "            n_asal_mi = False\n",
    "            # print(j tarafindan tam bolundu\")\n",
    "            break\n",
    "    if(n_asal_mi == True):\n",
    "        print(\"Bulunan asal: \",n)\n",
    "        break  "
   ]
  },
  {
   "cell_type": "markdown",
   "metadata": {},
   "source": [
    "Kendinizi geliştirmek isterseniz, ikinci döngüde (n=n+1 olan) n'in değerini birer birer değil de, ikişer ikişer arttıralım, ne de olsa çift sayılar asal olamayacağından, boşu boşuna kontrol etmekle CPU'yu yormuş olmayız --- ama bir saniye, ya bize başta verilen n çift sayı ise? o zaman bütün tekleri atlamış oluruz!!! O halde koda öyle bir ekleme yapın ki, eğer verilen n tek ise, öyle kabul edin ama eğer çift ise, ondan küçük en büyük tek sayıya eşitleyin (yani, halk tabiriyle: _1 çıkarın_ 8)"
   ]
  },
  {
   "cell_type": "markdown",
   "metadata": {},
   "source": [
    "### 2. Soru: Kuvvet hesabı\n",
    "\n",
    "İki boyutta, konumları $(x_i\\hat{i} + y_i\\hat{j})\\,\\text{m}$ şeklinde, yükleri de Coulomb cinsinden verilen 5 adet parçacığın her birinin üzerine diğerlerinden binen kuvvetleri (vektörel olarak) hesaplayan program yazın."
   ]
  },
  {
   "cell_type": "code",
   "execution_count": 2,
   "metadata": {},
   "outputs": [
    {
     "name": "stdout",
     "output_type": "stream",
     "text": [
      "konumlar (m):\n",
      " [[ 0.  0.]\n",
      " [ 1.  1.]\n",
      " [-1.  1.]\n",
      " [-1. -1.]\n",
      " [ 1. -1.]]\n",
      "---------------------------------------------\n",
      "yükler (C):\n",
      " [5.e-06 1.e-06 1.e-06 1.e-06 1.e-06]\n",
      "---------------------------------------------\n",
      "\n",
      "2 --- 1\n",
      " \\   /\n",
      "|  0  |\n",
      " /   \\ \n",
      "3 --- 4\n",
      "\n",
      "F_01 :  1  ->  0  kuvveti:  [-0.01589222 -0.01589222] N\n",
      "F_02 :  2  ->  0  kuvveti:  [ 0.01589222 -0.01589222] N\n",
      "F_03 :  3  ->  0  kuvveti:  [0.01589222 0.01589222] N\n",
      "F_04 :  4  ->  0  kuvveti:  [-0.01589222  0.01589222] N\n",
      "F_12 :  2  ->  1  kuvveti:  [0.0022475 0.       ] N\n",
      "F_13 :  3  ->  1  kuvveti:  [0.00079461 0.00079461] N\n",
      "F_14 :  4  ->  1  kuvveti:  [0.        0.0022475] N\n",
      "F_23 :  3  ->  2  kuvveti:  [0.        0.0022475] N\n",
      "F_24 :  4  ->  2  kuvveti:  [-0.00079461  0.00079461] N\n",
      "F_34 :  4  ->  3  kuvveti:  [-0.0022475  0.       ] N\n",
      "---------------------------------------------\n",
      "kuvvetler (N):\n",
      " [[ 0.          0.        ]\n",
      " [ 0.01893434  0.01893434]\n",
      " [-0.01893434  0.01893434]\n",
      " [-0.01893434 -0.01893434]\n",
      " [ 0.01893434 -0.01893434]]\n",
      "---------------------------------------------\n"
     ]
    }
   ],
   "source": [
    "import numpy as np\n",
    "\n",
    "np.random.seed(220)\n",
    "\n",
    "n = 5 # Parcacik sayisi\n",
    "\n",
    "k = 8.99E9 # Nm^2/C^2\n",
    "\n",
    "# Rastgele konumlar ve yükler için:\n",
    "# konumlar = 10*np.random.rand(n,2)-5 # orijine göre (m)\n",
    "# yukler = 500*(np.random.rand(n,1)-0.5)*1E-6 # (C)\n",
    "\n",
    "# Biz yüklerimizi merkezi orijinde olan,\n",
    "# kenar uzunluğu 2m'lik bir karenin köşelerine \n",
    "# ve merkezine koyalım\n",
    "\n",
    "konumlar = np.zeros((n,2)) # (m)\n",
    "konumlar[0,:] = [0,0]   # Merkez\n",
    "konumlar[1,:] = [1,1]   # Sağ üst\n",
    "konumlar[2,:] = [-1,1]  # Sol üst\n",
    "konumlar[3,:] = [-1,-1] # Sol alt\n",
    "konumlar[4,:] = [1,-1]  # Sağ alt\n",
    "\n",
    "\n",
    "yukler = np.array([5,1,1,1,1])*1E-6 # (C)\n",
    "\n",
    "print(\"konumlar (m):\\n\",konumlar)\n",
    "print(\"-\"*45)\n",
    "\n",
    "print(\"yükler (C):\\n\",yukler)\n",
    "print(\"-\"*45)\n",
    "\n",
    "kuvvetler = np.zeros((5,2))\n",
    "\n",
    "print(\"\\n\"\\\n",
    "+\"2 --- 1\\n\"\\\n",
    "+\" \\   /\\n\"\\\n",
    "+\"|  0  |\\n\"\\\n",
    "+\" /   \\ \\n\"\\\n",
    "+\"3 --- 4\\n\")\n",
    "\n",
    "\n",
    "\n",
    "for i in np.arange(n-1):\n",
    "    for j in np.arange(i+1,n):\n",
    "        r_vec = konumlar[i,:] - konumlar[j,:]\n",
    "        r_buyukluk = np.sqrt(r_vec[0]**2 + r_vec[1]**2)\n",
    "        F = k*yukler[i]*yukler[j]*r_vec/r_buyukluk**3\n",
    "        print(\"F_\"+str(i)+str(j),\": \",j,\" -> \",i,\" kuvveti: \",F,\"N\")\n",
    "        kuvvetler[i] = kuvvetler[i] + F\n",
    "        # j, i'ye F kuvveti uyguluyorsa,\n",
    "        # i de j'ye -F kuvveti uygular:\n",
    "        kuvvetler[j] = kuvvetler[j] - F\n",
    "print(\"-\"*45)\n",
    "print(\"kuvvetler (N):\\n\",kuvvetler)\n",
    "print(\"-\"*45)"
   ]
  },
  {
   "cell_type": "markdown",
   "metadata": {},
   "source": [
    "Parçacıklar üzerinden döngüyü alırken, nasıl saydığımıza dikkat edin: $i\\rightarrow j$ etkileşimi ile $j\\rightarrow i$ etkileşimi zıt yönlerde fakat aynı büyüklükte olduğundan, ayrı ayrı bir $i\\rightarrow j$, bir de $j\\rightarrow i$ etkileşimi hesaplamamak için $i$'leri 0,1,2,3'e kadar/dahil sayarken, $j$'leri de $i$'lerin başlangıcından 4'e kadar/dahil sayıyoruz. Böylelikle hesap sayısını en aza indirgemiş oluyoruz. İleride, bilimsel makalelerde şöyle toplamlar göreceksiniz:\n",
    "\n",
    "$$\\frac{1}{2}\\sum_{i\\ne j}{E_{ij}}$$\n",
    "işte o başındaki $\\frac{1}{2}$'nin hikayesi bu çifte sayım mevzuu. Anlaşılsın diye o şekilde yazılır, koda uyarlanırken de:\n",
    "\n",
    "$$\\sum_{i=0}^{N-1}\\sum_{j=i}^{N}{E_{ij}}$$\n",
    "olarak uyarlanır. ;)"
   ]
  }
 ],
 "metadata": {
  "kernelspec": {
   "display_name": "Python 3 (Spyder)",
   "language": "python3",
   "name": "python3"
  },
  "language_info": {
   "codemirror_mode": {
    "name": "ipython",
    "version": 3
   },
   "file_extension": ".py",
   "mimetype": "text/x-python",
   "name": "python",
   "nbconvert_exporter": "python",
   "pygments_lexer": "ipython3",
   "version": "3.6.9"
  }
 },
 "nbformat": 4,
 "nbformat_minor": 2
}
