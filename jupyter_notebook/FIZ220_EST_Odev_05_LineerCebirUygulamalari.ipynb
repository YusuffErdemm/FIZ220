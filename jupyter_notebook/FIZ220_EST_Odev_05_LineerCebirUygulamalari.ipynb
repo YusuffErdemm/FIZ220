{
 "cells": [
  {
   "cell_type": "markdown",
   "metadata": {},
   "source": [
    "# Ödev: 5\n",
    "## FİZ220 - Bilgisayar Programlama II | 01/06/2020\n",
    "\n",
    "**Lineer Cebir Uygulamaları**\n",
    "\n",
    "**Son gönderim tarihi:** 7 Haziran Pazar, 23:59  \n",
    "**Gönderim şekli:** FIZ220_Odev_05_Grup_#.ipynb isimli jupyter ipynb formatında dosyayı ödev sayfasından göndermek suretiyle  \n",
    "**Gönderecek kişi:** <u>Grup temsilcisi</u>\n",
    "\n",
    "Dr. Emre S. Taşcı, emre.tasci@hacettepe.edu.tr  \n",
    "Fizik Mühendisliği Bölümü  \n",
    "Hacettepe Üniversitesi"
   ]
  },
  {
   "cell_type": "markdown",
   "metadata": {},
   "source": [
    "## 1. Soru: Eğri aslında aynı eğri\n",
    "Ölçeği ayarlayıp, aşağıdaki iki grafikte verilen yayı aynı uzunluğa getirin. Eğrileri döndürmeniz ya da değerler üzerinde değişim yapmanız istenmemektedir: grafiklerden birinde (ya da dilerseniz ikisinde) x ve y eksenlerinin ölçeğini değiştirip, sonuç olarak öyle iki grafik elde edeceksiniz ki, çıktılarını alıp, sadece eğrileri kesip, üst üste koyduğumuzda birebir (/mümkün mertebe) örtüşecek boyutta olacaklar."
   ]
  },
  {
   "cell_type": "code",
   "execution_count": 2,
   "metadata": {},
   "outputs": [
    {
     "data": {
      "image/png": "[encoded data removed]",
      "text/plain": [
       "<matplotlib.figure.Figure at 0x7fd622aa8860>"
      ]
     },
     "metadata": {
      "needs_background": "light"
     },
     "output_type": "display_data"
    }
   ],
   "source": [
    "import numpy as np\n",
    "import matplotlib.pyplot as plt\n",
    "\n",
    "alpha = np.deg2rad(30) # derece -> radyan\n",
    "beta = np.deg2rad(30) # derece -> radyan\n",
    "V0 = 10 # m/s\n",
    "g = 10 # m/s^2\n",
    "\n",
    "t0 = (2*V0/g)*(np.sin(beta)/np.cos(alpha))\n",
    "\n",
    "t = np.linspace(0,t0,10)\n",
    "x = V0*np.cos(alpha+beta)*t\n",
    "y = V0*np.sin(alpha+beta)*t - 0.5*g*t**2\n",
    "\n",
    "plt.plot(x,y,\"o-b\")\n",
    "plt.xlabel(\"x (m)\")\n",
    "plt.ylabel(\"y (m)\")\n",
    "plt.title(\"Rutin Koordinatlar\")\n",
    "#plt.xlim(0,8)\n",
    "#plt.ylim(0,4)\n",
    "plt.show()"
   ]
  },
  {
   "cell_type": "code",
   "execution_count": 3,
   "metadata": {},
   "outputs": [
    {
     "data": {
      "image/png": "[encoded data removed]",
      "text/plain": [
       "<matplotlib.figure.Figure at 0x7fd622a3d5c0>"
      ]
     },
     "metadata": {
      "needs_background": "light"
     },
     "output_type": "display_data"
    }
   ],
   "source": [
    "import numpy as np\n",
    "import matplotlib.pyplot as plt\n",
    "\n",
    "alpha = np.deg2rad(30) # derece -> radyan\n",
    "beta = np.deg2rad(30) # derece -> radyan\n",
    "V0 = 10 # m/s\n",
    "g = 10 # m/s^2\n",
    "\n",
    "t0 = (2*V0/g)*(np.sin(beta)/np.cos(alpha))\n",
    "\n",
    "t = np.linspace(0,t0,10)\n",
    "xp = V0*np.cos(beta)*t - 0.5*g*np.sin(alpha)*t**2\n",
    "yp = V0*np.sin(beta)*t - 0.5*g*np.cos(alpha)*t**2\n",
    "\n",
    "plt.plot(xp,yp,\"o-m\")\n",
    "plt.xlabel(\"x' (m)\")\n",
    "plt.ylabel(\"y' (m)\")\n",
    "plt.title(\"'Normal' Koordinatlar\")\n",
    "plt.show()"
   ]
  },
  {
   "cell_type": "markdown",
   "metadata": {},
   "source": [
    "## 2. Soru: O öyle değil miydi ki hakikaten?\n",
    "\n",
    "Bizim bildiğimiz -saatin tersi yönünde döndüren- dönüş matrisi:\n",
    "$$R_{\\alpha} = \\begin{pmatrix}\n",
    "\\cos\\alpha & -\\sin\\alpha \\\\ \n",
    "\\sin\\alpha & \\cos\\alpha\n",
    "\\end{pmatrix}$$\n",
    "\n",
    "şeklinde değil miydi (yani \"$-\\sin\\alpha$\" sağ üstte; \"$\\sin\\alpha$\" sol altta olacak şekilde)?\n",
    "\n",
    "Ama sistemimizi saatin tersi yönünde döndürmemize rağmen, neden 1. örnek olan eğik düzleme atış probleminde (ve diğer iki örnekte de) işlemi yaparken \"$-\\sin\\alpha$\"yı sol altta, \"$\\sin\\alpha$\"yı sağ üstte aldık?... (Açıklayın)"
   ]
  },
  {
   "cell_type": "markdown",
   "metadata": {},
   "source": [
    "## 3. Soru: ???\n",
    "2\\. örnek olan sürtünmeli eğik düzlemde kayan kütlenin 'normal' koordinat sistemindeki hareket denklemleri olan:\n",
    "\n",
    "$$\\mu F_N - mg\\sin\\theta = m\\ddot{x}'\\\\\n",
    "F_N - mg\\cos\\theta =m\\ddot{y}'\\\\\n",
    "\\ddot{y}'=0$$\n",
    "\n",
    "üç denklemi lineer denklem seti olarak matris çarpımı ile temsil ederken:\n",
    "\n",
    "$$\\begin{pmatrix}m&0&-\\mu\\\\\n",
    "0&m &-1\\\\\n",
    "0 & 220 & 0\n",
    "\\end{pmatrix}\\begin{pmatrix}\\ddot{x}'\\\\\\ddot{y}'\\\\F_N\\end{pmatrix}=\\begin{pmatrix}-mg\\sin\\theta\\\\-mg\\cos\\theta\\\\0\\end{pmatrix}$$\n",
    "\n",
    "şeklinde yazdık. En alt satırın orta sütunundaki \"220\" değeri nereden geldi? Dersimizin koduyla aynı oluşu tesadüf mü?"
   ]
  },
  {
   "cell_type": "markdown",
   "metadata": {},
   "source": [
    " ## 4. Soru: [Soruları severim ama, cevaplarım ama, sağlama yapmasak](https://www.youtube.com/watch?v=7cs_SXfxTmY)?\n",
    " \n",
    " $$\\begin{pmatrix}-(k+K)&K\\\\K&-(k+K)\\end{pmatrix}\n",
    "\\begin{pmatrix}x_1\\\\x_2\\end{pmatrix} =\n",
    "-m\\omega^2\\begin{pmatrix}x_1\\\\x_2\\end{pmatrix}$$ \n",
    "\n",
    "şeklinde verilen üç yay, iki cisim sistemi denklem takımını normal koordinatlar ifade etmek için özdeğer ve özvektörlerini hesaplatmıştık:"
   ]
  },
  {
   "cell_type": "code",
   "execution_count": 4,
   "metadata": {
    "scrolled": true
   },
   "outputs": [
    {
     "name": "stdout",
     "output_type": "stream",
     "text": [
      "[-10. -70.]\n",
      "[[-10.   0.]\n",
      " [  0. -70.]]\n",
      "[[ 0.70710678 -0.70710678]\n",
      " [ 0.70710678  0.70710678]]\n"
     ]
    }
   ],
   "source": [
    "import numpy as np\n",
    "\n",
    "m = 1 # kg\n",
    "k = 10 # N/m\n",
    "K = 30 # N/m\n",
    "\n",
    "A = np.array([[-(k+K),K],[K,-(k+K)]])\n",
    "\n",
    "[l,u] = np.linalg.eig(A)\n",
    "u_inv = np.linalg.inv(u)\n",
    "D = np.diag(l)\n",
    "\n",
    "print(l)\n",
    "print(D)\n",
    "print(u)"
   ]
  },
  {
   "cell_type": "markdown",
   "metadata": {},
   "source": [
    "İlgili özdeğer ve özvektörlerin:\n",
    "\n",
    "$$A\\vec{u}_i = \\lambda_i\\vec{u}_i$$ \n",
    "\n",
    "özdeğer denklemini sağladığını teyit edin.\n",
    "\n",
    "**Bonus:** Soruya ait A matrisini, özvektörler matrisinden ve köşegenleştirilmiş formu kullanarak geri üretin."
   ]
  }
 ],
 "metadata": {
  "kernelspec": {
   "display_name": "Python 3",
   "language": "python",
   "name": "python3"
  },
  "language_info": {
   "codemirror_mode": {
    "name": "ipython",
    "version": 3
   },
   "file_extension": ".py",
   "mimetype": "text/x-python",
   "name": "python",
   "nbconvert_exporter": "python",
   "pygments_lexer": "ipython3",
   "version": "3.6.9"
  }
 },
 "nbformat": 4,
 "nbformat_minor": 2
}
